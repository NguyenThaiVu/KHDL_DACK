{
 "cells": [
  {
   "cell_type": "markdown",
   "metadata": {},
   "source": [
    "# Nguyễn Thái Vũ - 1712921"
   ]
  },
  {
   "cell_type": "markdown",
   "metadata": {},
   "source": [
    "## Các câu hỏi dự kiến sẽ được khám phá \n",
    "1. Thống kê số lượng người nhiễm covid19 và số lượng người chết trên toàn thế giới.\n",
    "2. Dự đoán số ca nhiễm bệnh trong 10 ngày tiếp theo trên toàn thế giới.\n",
    "3. Thống kê tình hình covid19 ở Việt Nam\n",
    "4. Dự đoán số ca nhiễm trong 10 ngày tiếp theo. "
   ]
  },
  {
   "cell_type": "code",
   "execution_count": null,
   "metadata": {},
   "outputs": [],
   "source": []
  }
 ],
 "metadata": {
  "kernelspec": {
   "display_name": "Python 3",
   "language": "python",
   "name": "python3"
  },
  "language_info": {
   "codemirror_mode": {
    "name": "ipython",
    "version": 3
   },
   "file_extension": ".py",
   "mimetype": "text/x-python",
   "name": "python",
   "nbconvert_exporter": "python",
   "pygments_lexer": "ipython3",
   "version": "3.7.3"
  }
 },
 "nbformat": 4,
 "nbformat_minor": 2
}
