{
 "cells": [
  {
   "cell_type": "markdown",
   "metadata": {},
   "source": [
    "# Nhóm 16 MAYBACH\n",
    "## Nguyễn Thái Vũ - 1712921\n",
    "## Vũ Anh Linh - 1712564\n",
    "## Nguyễn Bách Việt - 1712904\n",
    "\n",
    "# ĐƯỜNG DẪN FILE DỮ LIỆU: \n",
    "https://drive.google.com/drive/folders/15vMEvOz5pEIKXbeoy76v2w78jfGoWUqm?usp=sharing"
   ]
  },
  {
   "cell_type": "markdown",
   "metadata": {},
   "source": [
    "Bài làm của nhóm gồm 5 phần phân tích: \n",
    "1. THỐNG KÊ SỐ LƯỢNG NGƯỜI NHIỄM COVID VÀ SỐ LƯỢNG NGƯỜI CHẾT TRÊN TOÀN THẾ GIỚI\n",
    "2. DỰ ĐOÁN SỐ CA NHIỄM BỆNH TRONG 10 NGÀY TIẾP THEO TRÊN TOÀN THẾ GIỚI\n",
    "3. TÌNH HÌNH COVID19 TRÊN THẾ GIỚI (BẢN ĐỒ)\n",
    "4. TÌNH HÌNH COVID19 Ở VIỆT NAM\n",
    "5. DỰ BÁO COVID19 Ở ĐÀ NẴNG\n",
    "\n",
    "Do phần trình bày của nhóm có 1 số item khá nặng (bản đồ, biểu đồ,...) cho nên không thể xuất kết quả cho thầy xem được (nặng hơn 10MB không thể nộp trên Moodle). Thầy vui lòng chạy giúp em (đường link tới file dữ liệu bên trên). Em cám ơn !"
   ]
  },
  {
   "cell_type": "markdown",
   "metadata": {},
   "source": [
    "# 1. THỐNG KÊ SỐ LƯỢNG NGƯỜI NHIỄM COVID VÀ SỐ LƯỢNG NGƯỜI CHẾT TRÊN TOÀN THẾ GIỚI"
   ]
  },
  {
   "cell_type": "code",
   "execution_count": null,
   "metadata": {},
   "outputs": [],
   "source": [
    "import numpy as np\n",
    "import pandas as pd\n",
    "import matplotlib.pyplot as plt\n",
    "%matplotlib inline"
   ]
  },
  {
   "cell_type": "code",
   "execution_count": null,
   "metadata": {},
   "outputs": [],
   "source": [
    "# Đọc dữ liệu từ file csv (index_col=0 để loại bỏ những cột Unnamed (số thứ tự trong file csv))\n",
    "df_confirm = pd.read_csv(\"time_series_covid_19_confirmed.csv\")\n",
    "df_death = pd.read_csv(\"time_series_covid_19_deaths.csv\")\n",
    "df_covid19 = pd.read_csv(\"cases_country.csv\", index_col=0)"
   ]
  },
  {
   "cell_type": "code",
   "execution_count": null,
   "metadata": {},
   "outputs": [],
   "source": [
    "# Đổi tên lại các column cho việc thao tác dễ dàng hơn\n",
    "df_confirm = df_confirm.rename(columns={\"Province/State\":\"state\",\"Country/Region\": \"country\"})\n",
    "df_death = df_death.rename(columns={\"Province/State\":\"state\",\"Country/Region\": \"country\"})\n",
    "df_covid19 = df_covid19.rename(columns={\"Country_Region\": \"country\"})\n",
    "\n",
    "# Ta thấy People_Tested và People_Hospitalized không có giá trị => Loại bỏ\n",
    "# ISO3: là mã của quốc gia (alpha code 3)- không có ý nghĩa trong việc phân tích hiện tại => loại bỏ\n",
    "# UID: là mã của quốc gia (numeric code)- không có ý nghĩa trong việc phân tích hiện tại => loại bỏ\n",
    "# Ta dùng tên quốc gia làm index cho DataFrame\n",
    "\n",
    "df_covid19 = df_covid19.drop([\"People_Tested\",\"People_Hospitalized\",\"UID\",\"ISO3\", 'Lat','Long_','Last_Update'],axis =1)\n",
    "df_covid19.index = df_covid19['country']\n",
    "df_covid19 = df_covid19.drop(['country'],axis=1)\n",
    "df_covid19"
   ]
  },
  {
   "cell_type": "code",
   "execution_count": null,
   "metadata": {},
   "outputs": [],
   "source": [
    "## Phân tích dữ liệu\n",
    "\n",
    "# Tính tổng toàn cầu: số lượng người nhiễm (confirm), số lượng người chết (death), \n",
    "# số lượng người hồi phục (recover) và số lượng người đang điều trị (active)\n",
    "\n",
    "df_global = pd.DataFrame(pd.to_numeric(df_covid19.sum()),dtype=np.float64).transpose()\n",
    "df_global[\"Mortality Rate (per 100)\"] = np.round(100*df_global[\"Deaths\"]/df_global[\"Confirmed\"],2)\n",
    "df_global.style.background_gradient(cmap='Wistia',axis=1).format(\"{:.2f}\").format(\"{:.0f}\",subset=[\"Confirmed\",\"Deaths\",\"Recovered\",\"Active\"])"
   ]
  },
  {
   "cell_type": "markdown",
   "metadata": {},
   "source": [
    "- Tiếp theo, ta sắp xếp thứ tự các quốc gia dựa theo số lượng ca nhiễm bệnh. Đặc biệt , ta biểu diễn bằng hàm background_gradient (quan sát kỹ, ta sẽ thấy những cột: Deaths, Recoveres, Active, Incident_Rate không được sắp xếp theo thứ tự, tuy nhiên, giá trị lớn, nhỏ sẽ có màu đậm, nhạt tương ứng."
   ]
  },
  {
   "cell_type": "code",
   "execution_count": null,
   "metadata": {
    "scrolled": true
   },
   "outputs": [],
   "source": [
    "df_covid19.sort_values('Confirmed', ascending= False).style.background_gradient(cmap='Blues',subset=[\"Confirmed\"])\\\n",
    "                        .background_gradient(cmap='Reds',subset=[\"Deaths\"], )\\\n",
    "                        .background_gradient(cmap='Greens',subset=[\"Recovered\"])\\\n",
    "                        .background_gradient(cmap='Oranges',subset=[\"Active\"])\\\n",
    "                        .background_gradient(cmap='Pastel1_r',subset=[\"Incident_Rate\"])\\\n",
    "                        .format(\"{:.2f}\").format(\"{:.0f}\",subset=[\"Confirmed\",\"Deaths\",\"Recovered\",\"Active\"])\n",
    "\n",
    "# Vẽ biểu đồ thể hiện 10 quốc gia có số ca nhiễm cao nhất và so sánh với Việt Nam\n",
    "\n",
    "df_VietNam_confirm = df_covid19[df_covid19.index == \"Vietnam\"]['Confirmed'].astype(np.int)\n",
    "df_top10_country_confirm = df_covid19.sort_values('Confirmed', ascending= False)[:10]['Confirmed'].astype(np.int)\n",
    "df_top10_country_confirm = pd.concat([df_top10_country_confirm, df_VietNam_confirm])\n",
    "df_top10_country_confirm\n",
    "\n",
    "plt.figure(figsize=(18,5))\n",
    "plt.title(\"10 QUỐC GIA CÓ SỐ CA NHIỄM CAO NHẤT\",fontsize=30)\n",
    "plt.xlabel(\"Số ca nhiễm\")\n",
    "plt.ylabel(\"Quốc gia\")\n",
    "plt.barh(df_top10_country_confirm.index[::-1], df_top10_country_confirm.values[::-1])"
   ]
  },
  {
   "cell_type": "markdown",
   "metadata": {},
   "source": [
    "Nhận xét: qua biểu đồ trên, ta thấy so với các nước trên thế giới, Việt Nam chúng ta có số lượng người nhiễm Covid rất thấp (847 ca) so với những nước như Mỹ (5094565 ca) hoặc Brazil (3057470 ca)."
   ]
  },
  {
   "cell_type": "code",
   "execution_count": null,
   "metadata": {
    "scrolled": true
   },
   "outputs": [],
   "source": [
    "# Vẽ biểu đồ thể hiện 10 quốc gia có số người chết cao nhất và so sánh với Việt Nam\n",
    "\n",
    "df_VietNam_death = df_covid19[df_covid19.index == \"Vietnam\"][\"Deaths\"].astype(np.int)\n",
    "df_top10_country_death = df_covid19.sort_values('Deaths', ascending= False)[:10]['Deaths'].astype(np.int)\n",
    "df_top10_country_death = pd.concat([df_top10_country_death, df_VietNam_death])\n",
    "df_top10_country_death\n",
    "\n",
    "plt.figure(figsize=(18,5))\n",
    "plt.title(\"10 QUỐC GIA CÓ SỐ CA CHẾT CAO NHẤT\", fontsize = 30)\n",
    "plt.xlabel(\"Số ca chết\")\n",
    "plt.ylabel(\"Quốc gia\")\n",
    "plt.barh(df_top10_country_death.index[::-1], df_top10_country_death.values[::-1], color=\"red\")\n",
    "\n"
   ]
  },
  {
   "cell_type": "markdown",
   "metadata": {},
   "source": [
    "Nhận xét: tương tự, so với các nước trên thế giới, Việt Nam chúng ta có số người mất do Covid rất thấp (15 ca) so với những nước như Mỹ (163465 ca) hoặc Brazil (101752 ca)."
   ]
  },
  {
   "cell_type": "markdown",
   "metadata": {},
   "source": [
    "# 2. DỰ ĐOÁN SỐ CA NHIỄM BỆNH TRONG 10 NGÀY TIẾP THEO TRÊN TOÀN THẾ GIỚI"
   ]
  },
  {
   "cell_type": "markdown",
   "metadata": {},
   "source": [
    "##### Thống kê số lượng ca nhiễm trong thời gian qua (trên toàn thế giới)"
   ]
  },
  {
   "cell_type": "code",
   "execution_count": null,
   "metadata": {},
   "outputs": [],
   "source": [
    "from scipy.interpolate import make_interp_spline\n",
    "\n",
    "list_date = df_confirm.iloc[:,5:].sum(axis =0)\n",
    "plt.figure(figsize=(20,12))\n",
    "\n",
    "threshold = 100000\n",
    "\n",
    "temp = list_date.values\n",
    "temp = temp[temp >threshold]\n",
    "\n",
    "date = np.arange(0,len(temp[:]))\n",
    "\n",
    "xnew = np.linspace(date.min(), date.max(), 10)\n",
    "spl = make_interp_spline(date, temp, k=1)  # type: BSpline\n",
    "power_smooth = spl(xnew)\n",
    "\n",
    "marker_style = dict(linewidth=4, linestyle='-', marker='.',markersize=10, markerfacecolor='#ffffff')\n",
    "plt.plot(date, temp,\"-.\",label=\"Ca nhiễm bệnh\",**marker_style)\n",
    "\n",
    "plt.xlim(date[0],date[-1])\n",
    "plt.ylim(threshold - threshold/10,2*temp.max())\n",
    "\n",
    "# plot Params\n",
    "# plt.tight_layout()\n",
    "plt.tick_params(labelsize = 16)        \n",
    "plt.xticks(np.arange(0,len(temp[:])+10,10),[ \"Day \"+str(i) for i in range(len(temp[:])+10)][::10]) \n",
    "\n",
    "plt.xlabel(\"Ngày\")\n",
    "plt.ylabel(\"Số lượng ca nhiễm bệnh\")\n",
    "plt.title(\"THỐNG KÊ SỐ LƯỢNG CA NHIỄM BỆNH (22/01/2020 - 01/08/2020)\",fontsize=24)\n",
    "plt.legend(loc = \"upper left\")\n",
    "plt.yscale(\"log\")\n",
    "plt.grid(which=\"both\")"
   ]
  },
  {
   "cell_type": "markdown",
   "metadata": {},
   "source": [
    "## Keras model predict"
   ]
  },
  {
   "cell_type": "code",
   "execution_count": null,
   "metadata": {
    "scrolled": true
   },
   "outputs": [],
   "source": [
    "from keras.layers import Input, Dense, Activation, LeakyReLU, Dropout, ReLU\n",
    "from keras import models\n",
    "from keras.optimizers import RMSprop, Adam\n",
    "\n",
    "from datetime import datetime, timedelta,date\n",
    "from matplotlib import ticker"
   ]
  },
  {
   "cell_type": "markdown",
   "metadata": {},
   "source": [
    "### Ta xây dựng model (được viết bằng Keras) dựa vào số lượng ca nhiễm bệnh (Confirm) trong quá khứ để dự đoán số lượng ca nhiễm trong 10 ngày tới  "
   ]
  },
  {
   "cell_type": "code",
   "execution_count": null,
   "metadata": {},
   "outputs": [],
   "source": [
    "input_model = Input(shape=(1,))\n",
    "Dense_1 = Dense(80,name=\"Dense_l1\")(input_model)\n",
    "ReLU_1 = ReLU(name = \"ReLU_1\")(Dense_1)\n",
    "\n",
    "Dense_2 = Dense(80,name = \"Dense_l2\")(ReLU_1)\n",
    "ReLU_2 = ReLU(name = \"ReLU_2\")(Dense_2)\n",
    "\n",
    "Dense_3 = Dense(80,name = \"Dense_l3\")(ReLU_2)\n",
    "ReLU_3 = ReLU(name = \"ReLU_3\")(Dense_3)\n",
    "\n",
    "Dense_4 = Dense(1,name=\"Dense_l4\")(ReLU_3)\n",
    "output_model = ReLU(name = \"Output\")(Dense_4)\n",
    "\n",
    "model = models.Model(inputs=input_model, outputs=output_model, name='Covid19_Predict_Comfirm')\n",
    "model.compile(optimizer=Adam(lr=0.001), loss='mean_squared_error', metrics=['accuracy'])\n",
    "model.summary()\n",
    "\n",
    "data_y = np.log10(np.asarray(df_confirm.iloc[:,5:].sum(axis =0)).astype(\"float32\"))\n",
    "data_x = np.arange(1,len(data_y)+1)\n",
    "\n",
    "model.fit(data_x.reshape([data_y.shape[0],1]),data_y.reshape([data_y.shape[0],1]),epochs=1000)\n",
    "\n",
    "model.summary()"
   ]
  },
  {
   "cell_type": "code",
   "execution_count": null,
   "metadata": {},
   "outputs": [],
   "source": [
    "# Vẽ biểu đô thể hiện sự dự đoán\n",
    "\n",
    "prediction_days = 10\n",
    "\n",
    "case_nums_country = df_confirm.groupby(\"country\").sum().drop(['Lat','Long'],axis =1).apply(lambda x: x[x > 0].count(), axis =0)\n",
    "d = [datetime.strptime(date,'%m/%d/%y').strftime(\"%d %b\") for date in case_nums_country.index]\n",
    "\n",
    "temp_data = df_confirm.iloc[:,5:].sum(axis =0)\n",
    "data = np.power(10,model.predict(np.arange(1,len(temp_data)+prediction_days+1)))\n",
    "f = plt.figure(figsize=(15,10))\n",
    "ax = f.add_subplot(111)\n",
    "\n",
    "date = np.arange(0,len(temp_data))\n",
    "\n",
    "plt.plot(date, temp_data/100000,\"-o\",color=\"blue\", label=\"Số ca nhiễm (thực tế)\")\n",
    "\n",
    "date = np.arange(0,len(data))\n",
    "plt.plot(date,data/100000,\"-.\",color=\"red\",label=\"Số ca nhiễm (dự đoán)\")\n",
    "\n",
    "nextdays = [(datetime.strptime(d[-1],'%d %b')+timedelta(days=i)).strftime(\"%d %b\") for i in range(1,prediction_days+1)]\n",
    "total = d + nextdays\n",
    "\n",
    "text = \"Số ca nhiễm bệnh \"+str(prediction_days) +\" ngày tới:\\n\"\n",
    "for i in range(prediction_days):\n",
    "    text += nextdays[i]+\" : \"+str(int(data[-1*(prediction_days-i)]))+\"\\n\"\n",
    "\n",
    "plt.text(0.05, 0.85, text, fontsize=17, horizontalalignment='left', verticalalignment='top', transform=ax.transAxes,bbox=dict(facecolor='white', alpha=0.4))\n",
    "\n",
    "# X-axis\n",
    "plt.xticks(list(np.arange(0,len(total),int(len(total)/5))),total[:-1:int(len(total)/5)]+[total[-1]])\n",
    "\n",
    "# Tick-Parameters\n",
    "ax.xaxis.set_minor_locator(ticker.AutoMinorLocator())\n",
    "ax.yaxis.set_minor_locator(ticker.AutoMinorLocator())\n",
    "ax.tick_params(which='both', width=1,labelsize=14)\n",
    "ax.tick_params(which='major', length=6)\n",
    "ax.tick_params(which='minor', length=3, color='0.8')\n",
    "\n",
    "# Grid\n",
    "plt.grid(lw = 1, ls = '-', c = \"0.7\", which = 'major')\n",
    "plt.grid(lw = 1, ls = '-', c = \"0.9\", which = 'minor')\n",
    "\n",
    "plt.title(\"Số ca nhiễm Covid19 trong 10 ngày tới (dự đoán)\",fontsize=25)\n",
    "plt.xlabel(\"Ngày\",fontsize =18)\n",
    "plt.ylabel(\"Số lượng người nhiễm bệnh (100.000 người)\",fontsize =18)\n",
    "\n",
    "plt.legend(fontsize =18)\n",
    "plt.tick_params(labelsize = 18) \n"
   ]
  },
  {
   "cell_type": "markdown",
   "metadata": {
    "colab_type": "text",
    "id": "e4UzUReTLpyT"
   },
   "source": [
    "# 3. TÌNH HÌNH COVID19 TRÊN THẾ GIỚI (BẢN ĐỒ)"
   ]
  },
  {
   "cell_type": "code",
   "execution_count": null,
   "metadata": {
    "colab": {},
    "colab_type": "code",
    "id": "emVvOofZ3Thx"
   },
   "outputs": [],
   "source": [
    "class country_utils():\n",
    "    def __init__(self):\n",
    "        self.d = {}\n",
    "    \n",
    "    def get_dic(self):\n",
    "        return self.d\n",
    "    \n",
    "    def get_country_details(self,country):\n",
    "        \"\"\"Returns country code(alpha_3) and continent\"\"\"\n",
    "        try:\n",
    "            country_obj = pycountry.countries.get(name=country)\n",
    "            if country_obj is None:\n",
    "                c = pycountry.countries.search_fuzzy(country)\n",
    "                country_obj = c[0]\n",
    "            continent_code = pc.country_alpha2_to_continent_code(country_obj.alpha_2)\n",
    "            continent = pc.convert_continent_code_to_continent_name(continent_code)\n",
    "            return country_obj.alpha_3, continent\n",
    "        except:\n",
    "            if 'Congo' in country:\n",
    "                country = 'Congo'\n",
    "            elif country == 'Diamond Princess' or country == 'Laos' or country == 'MS Zaandam' or country == 'Holy See' or country == 'Timor-Leste':\n",
    "                return country, country\n",
    "            elif country == 'Korea, South' or country == 'South Korea' or country == 'south korea':\n",
    "                country = 'Korea'\n",
    "            elif country == 'Taiwan*':\n",
    "                country = 'Taiwan'\n",
    "            elif country == 'Burma':\n",
    "                country = 'Myanmar'\n",
    "            elif country == 'West Bank and Gaza':\n",
    "                country = 'Gaza'\n",
    "            else:\n",
    "                return country, country\n",
    "            country_obj = pycountry.countries.search_fuzzy(country)\n",
    "            continent_code = pc.country_alpha2_to_continent_code(country_obj[0].alpha_2)\n",
    "            continent = pc.convert_continent_code_to_continent_name(continent_code)\n",
    "            return country_obj[0].alpha_3, continent\n",
    "    \n",
    "    def get_iso3(self, country):\n",
    "        return self.d[country]['code']\n",
    "    \n",
    "    def get_continent(self,country):\n",
    "        return self.d[country]['continent']\n",
    "    \n",
    "    def add_values(self,country):\n",
    "        self.d[country] = {}\n",
    "        self.d[country]['code'],self.d[country]['continent'] = self.get_country_details(country)\n",
    "    \n",
    "    def fetch_iso3(self,country):\n",
    "        if country in self.d.keys():\n",
    "            return self.get_iso3(country)\n",
    "        else:\n",
    "            self.add_values(country)\n",
    "            return self.get_iso3(country)\n",
    "        \n",
    "    def fetch_continent(self,country):\n",
    "        if country in self.d.keys():\n",
    "            return self.get_continent(country)\n",
    "        else:\n",
    "            self.add_values(country)\n",
    "            return self.get_continent(country)\n",
    "obj = country_utils()"
   ]
  },
  {
   "cell_type": "code",
   "execution_count": null,
   "metadata": {
    "colab": {
     "base_uri": "https://localhost:8080/",
     "height": 222
    },
    "colab_type": "code",
    "id": "8q-1nV6ts8T4",
    "outputId": "7c44c057-86ed-4589-bad3-c00573e6eb50"
   },
   "outputs": [],
   "source": [
    "!pip install pycountry"
   ]
  },
  {
   "cell_type": "code",
   "execution_count": null,
   "metadata": {
    "colab": {
     "base_uri": "https://localhost:8080/",
     "height": 628
    },
    "colab_type": "code",
    "id": "Ddq0nLFbtS9T",
    "outputId": "1c086757-802f-43f4-bb6d-5d2750468d8b",
    "scrolled": true
   },
   "outputs": [],
   "source": [
    "!pip install pycountry-convert"
   ]
  },
  {
   "cell_type": "code",
   "execution_count": null,
   "metadata": {},
   "outputs": [],
   "source": [
    "!pip install plotly"
   ]
  },
  {
   "cell_type": "code",
   "execution_count": null,
   "metadata": {},
   "outputs": [],
   "source": [
    "import plotly.express as px\n",
    "import numpy as np\n",
    "import pycountry\n",
    "import pycountry_convert as pc\n",
    "import plotly.graph_objects as go\n",
    "import pandas as pd"
   ]
  },
  {
   "cell_type": "code",
   "execution_count": null,
   "metadata": {
    "colab": {},
    "colab_type": "code",
    "id": "1B6_zBbTxy6h"
   },
   "outputs": [],
   "source": [
    "df= pd.read_csv('covid_19_data.csv')\n",
    "\n",
    "df.rename(columns={'ObservationDate':'Date','Province/State':'Province_State',\n",
    "                   'Country/Region':'Country_Region','Confirmed':'ConfirmedCases',\n",
    "                   'Deaths':'Fatalities'},inplace=True)\n",
    "\n",
    "df.loc[df['Country_Region']=='Mainland China','Country_Region']='China'\n",
    "\n",
    "df['Date'] = pd.to_datetime(df['Date'],format='%m/%d/%Y') # Chuyển dữ liệu ngày sang dạng datetime\n",
    "df['Day'] = df.Date.dt.dayofyear #Cho biêt ngày là ngày thứ mấy trong năm\n",
    "\n",
    "df['cases_lag_1'] = df.groupby(['Country_Region','Province_State'])['ConfirmedCases'].shift(1) \n",
    "df['deaths_lag_1'] = df.groupby(['Country_Region','Province_State'])['Fatalities'].shift(1)\n",
    "\n",
    "df['Daily Cases'] = df['ConfirmedCases'] - df['cases_lag_1'] #Số ca nhiễm tăng mỗi ngày = Tổng \n",
    "df['Daily Deaths'] = df['Fatalities'] - df['deaths_lag_1'] # Số người chết tăng mỗi ngày = "
   ]
  },
  {
   "cell_type": "code",
   "execution_count": null,
   "metadata": {
    "colab": {
     "base_uri": "https://localhost:8080/",
     "height": 91
    },
    "colab_type": "code",
    "id": "oQ25DL1z6Ibr",
    "outputId": "9360b82c-1590-41ea-f3e6-0e44dbdb35c7"
   },
   "outputs": [],
   "source": [
    "df_map = df.copy()\n",
    "df_map['Date'] = df_map['Date'].astype(str)\n",
    "df_map = df_map.groupby(['Date','Country_Region'], as_index=False)['ConfirmedCases','Fatalities'].sum()"
   ]
  },
  {
   "cell_type": "code",
   "execution_count": null,
   "metadata": {
    "colab": {},
    "colab_type": "code",
    "id": "kimFAMN46RKG"
   },
   "outputs": [],
   "source": [
    "df_map['Số ca nhiễm(người)'] = df_map['ConfirmedCases']\n",
    "df_map['Số người chết(người)'] = df_map['Fatalities']\n",
    "df_map['Ngày'] = df_map['Date']\n",
    "df_map['Mã quốc gia'] = df_map.apply(lambda x: obj.fetch_iso3(x['Country_Region']), axis=1)"
   ]
  },
  {
   "cell_type": "code",
   "execution_count": null,
   "metadata": {
    "colab": {
     "base_uri": "https://localhost:8080/",
     "height": 617
    },
    "colab_type": "code",
    "id": "HR_iYQEh09IR",
    "outputId": "35bc67cf-4441-4044-9e4b-fd9235ae8043"
   },
   "outputs": [],
   "source": [
    "#Vẽ trên biểu đồ Choropleth\n",
    "covid19_confirmed_map = px.choropleth(df_map,  \n",
    "                        locations=\"Mã quốc gia\",\n",
    "                        color=\"Số ca nhiễm(người)\", \n",
    "                        hover_name=\"Country_Region\", \n",
    "                        hover_data=[\"Số ca nhiễm(người)\"] ,\n",
    "                        animation_frame=\"Ngày\",\n",
    "                        color_continuous_scale= px.colors.sequential.Plasma_r, \n",
    "                        title='Biểu đồ tăng trưởng số ca nhiễm COVID 19 theo ngày')\n",
    "\n",
    "covid19_confirmed_map.update_layout(\n",
    "    autosize=False,\n",
    "    width=1200,\n",
    "    height=600,\n",
    "    margin=dict(\n",
    "        l=0,\n",
    "        r=0,\n",
    "        b=0,\n",
    "        t=35\n",
    "    )\n",
    ")\n",
    "covid19_confirmed_map.show()"
   ]
  },
  {
   "cell_type": "code",
   "execution_count": null,
   "metadata": {
    "colab": {
     "base_uri": "https://localhost:8080/",
     "height": 637
    },
    "colab_type": "code",
    "id": "7WyliZLcICwR",
    "outputId": "24170efe-cacf-49a0-f9c1-c7d15a84ac10"
   },
   "outputs": [],
   "source": [
    "covid19_death_map = px.choropleth(df_map,  \n",
    "                        locations=\"Mã quốc gia\",\n",
    "                        color=\"Số người chết(người)\", \n",
    "                        hover_name=\"Country_Region\", \n",
    "                        hover_data=[\"Số người chết(người)\"] ,\n",
    "                        animation_frame=\"Ngày\",\n",
    "                        color_continuous_scale= px.colors.sequential.Viridis_r, \n",
    "                        title='Biểu đồ tăng trưởng số người chết do COVID 19 theo ngày')\n",
    "\n",
    "covid19_death_map.update_layout(\n",
    "    autosize=False,\n",
    "    width=1200,\n",
    "    height=600,\n",
    "    margin=dict(\n",
    "        l=0,\n",
    "        r=0,\n",
    "        b=0,\n",
    "        t=35\n",
    "    )\n",
    ")\n",
    "covid19_death_map.show()"
   ]
  },
  {
   "cell_type": "markdown",
   "metadata": {
    "colab_type": "text",
    "id": "5uIGlvZzLZYf"
   },
   "source": [
    "# 4. TÌNH HÌNH COVID19 Ở VIỆT NAM"
   ]
  },
  {
   "cell_type": "code",
   "execution_count": null,
   "metadata": {
    "colab": {},
    "colab_type": "code",
    "id": "UJNz_ZTJL8Qp"
   },
   "outputs": [],
   "source": [
    "from urllib.request import urlopen\n",
    "import json\n",
    "import plotly\n",
    "import plotly.express as px\n",
    "from bs4 import BeautifulSoup\n",
    "import requests\n",
    "import re\n",
    "import certifi\n",
    "import urllib.request\n",
    "import pandas as pd\n",
    "import numpy as np\n",
    "import matplotlib.pyplot as plt"
   ]
  },
  {
   "cell_type": "code",
   "execution_count": null,
   "metadata": {
    "colab": {
     "base_uri": "https://localhost:8080/",
     "height": 204
    },
    "colab_type": "code",
    "id": "ysAjqUdDPvSg",
    "outputId": "a4994d50-6d3a-45a5-bc38-10915d4cac86"
   },
   "outputs": [],
   "source": [
    "page = requests.get('https://ncov.moh.gov.vn/web/guest/trang-chu',verify = False) #Lấy data từ trang bộ y tế\n",
    "soup = BeautifulSoup(page.text, 'html.parser')\n",
    "soup.prettify()"
   ]
  },
  {
   "cell_type": "code",
   "execution_count": null,
   "metadata": {
    "colab": {},
    "colab_type": "code",
    "id": "qqXHDKHIQFrs"
   },
   "outputs": [],
   "source": [
    "#Tìm đến phần tử Bảng thống kê bệnh nhân id:sailortable\n",
    "vietnam_patients_data = soup.find_all('table', attrs={\"class\":\"table table-striped table-covid19\", \"id\":\"sailorTable\"})\n",
    "# Thông tin nằm trong thẻ <td>\n",
    "res = vietnam_patients_data[0].find_all('td')"
   ]
  },
  {
   "cell_type": "code",
   "execution_count": null,
   "metadata": {
    "colab": {
     "base_uri": "https://localhost:8080/",
     "height": 363
    },
    "colab_type": "code",
    "id": "40ZaJh6vQy9J",
    "outputId": "c16a6e9c-40dd-4626-8dbf-2834a0a86236"
   },
   "outputs": [],
   "source": [
    "# Hàm ghi data thu được đưa vào bảng\n",
    "def location_extract (result_list):\n",
    "    data =pd.DataFrame()\n",
    "    col_names = ['Location','Infected','Treating','Recovered','Dead']\n",
    "    for i in range (0,5):\n",
    "        data.insert (i, col_names[i],[m.get_text() for m in result_list[i::5]])\n",
    "    return data\n",
    "\n",
    "covid19_by_provinces = location_extract(res)\n",
    "covid19_by_provinces.head(10)"
   ]
  },
  {
   "cell_type": "code",
   "execution_count": null,
   "metadata": {},
   "outputs": [],
   "source": [
    "print(\"Số tỉnh thành có người nhiễm Covid19: \", len(covid19_by_provinces))"
   ]
  },
  {
   "cell_type": "code",
   "execution_count": null,
   "metadata": {
    "colab": {
     "base_uri": "https://localhost:8080/",
     "height": 597
    },
    "colab_type": "code",
    "id": "kj5nbTPCtIIZ",
    "outputId": "515425f0-2df0-45e5-e97b-a56bc9e15d25"
   },
   "outputs": [],
   "source": [
    "#Vẽ biểu đồ cột\n",
    "\n",
    "data = { 'Số ca nhiễm': covid19_by_provinces.Infected.head(10).astype(str).astype(int).to_numpy(),\n",
    "        'Đang điều trị': covid19_by_provinces.Treating.head(10).astype(str).astype(int).to_numpy(),\n",
    "        'Đã phục hồi': covid19_by_provinces.Recovered.head(10).astype(str).astype(int).to_numpy(),\n",
    "        'Tử vong': covid19_by_provinces.Dead.head(10).astype(str).astype(int).to_numpy(),\n",
    "};\n",
    "\n",
    "provinces = covid19_by_provinces.head(10)\n",
    "\n",
    "dataFrame = pd.DataFrame(data=data, index=provinces)\n",
    "\n",
    "# Draw a vertical bar chart\n",
    "\n",
    "dataFrame.plot.bar(rot=0, title=\"Top 10 tỉnh/thành ghi nhận nhiều ca Covid nhất tại Việt Nam tính đến nay\", figsize = (28,10));\n",
    "\n",
    "plt.show(block=True);"
   ]
  },
  {
   "cell_type": "markdown",
   "metadata": {
    "colab_type": "text",
    "id": "mmUs9XDGwNwV"
   },
   "source": [
    "# 5. DỰ BÁO COVID19 Ở ĐÀ NẴNG"
   ]
  },
  {
   "cell_type": "code",
   "execution_count": null,
   "metadata": {
    "colab": {
     "base_uri": "https://localhost:8080/",
     "height": 206
    },
    "colab_type": "code",
    "id": "xWy0cE2LwT_2",
    "outputId": "b2d00814-133a-4cf2-80bf-890a7d28f20d"
   },
   "outputs": [],
   "source": [
    "df_danang = pd.read_excel('thong_tin_dich_te_benh_nhan_covid_19_tai_da_nang_1.xls')\n",
    "df_danang.head()"
   ]
  },
  {
   "cell_type": "code",
   "execution_count": null,
   "metadata": {
    "colab": {},
    "colab_type": "code",
    "id": "dRl46NMPwksq"
   },
   "outputs": [],
   "source": [
    "#Thống kê số ca nhiễm mới theo ngày\n",
    "data = { 'date': df_danang.drop_duplicates(['ngay_cong_bo'])['ngay_cong_bo'].to_numpy(), # Ngày\n",
    "        'cases_increased': df_danang.groupby('ngay_cong_bo').size().to_numpy()       # Số ca tăng moi ngay\n",
    "};\n"
   ]
  },
  {
   "cell_type": "code",
   "execution_count": null,
   "metadata": {
    "colab": {
     "base_uri": "https://localhost:8080/",
     "height": 539
    },
    "colab_type": "code",
    "id": "rxhkQtTGhv9q",
    "outputId": "92059111-f3b5-4e06-a999-390abdc2782d"
   },
   "outputs": [],
   "source": [
    "daily_confirmedcase_increase = pd.DataFrame(data= data) # Lưu thành dạng dataframe"
   ]
  },
  {
   "cell_type": "code",
   "execution_count": null,
   "metadata": {
    "colab": {
     "base_uri": "https://localhost:8080/",
     "height": 708
    },
    "colab_type": "code",
    "id": "36j6awAR-k6q",
    "outputId": "25dc5033-8d19-41df-af38-3ee0fb6077fc",
    "scrolled": true
   },
   "outputs": [],
   "source": [
    "daily_confirmedcase_increase['cases_increased_diff'] = daily_confirmedcase_increase['cases_increased'] - daily_confirmedcase_increase['cases_increased'].shift(1)\n",
    "daily_confirmedcase_increase"
   ]
  },
  {
   "cell_type": "code",
   "execution_count": null,
   "metadata": {
    "colab": {
     "base_uri": "https://localhost:8080/",
     "height": 260
    },
    "colab_type": "code",
    "id": "onOnZW2EgvXZ",
    "outputId": "e2ef8f8a-291c-430e-e952-ce91c886f150"
   },
   "outputs": [],
   "source": [
    "! pip install pmdarima"
   ]
  },
  {
   "cell_type": "code",
   "execution_count": null,
   "metadata": {
    "colab": {},
    "colab_type": "code",
    "id": "r8e0kdC1g1ZM"
   },
   "outputs": [],
   "source": [
    "from pmdarima.arima import auto_arima"
   ]
  },
  {
   "cell_type": "code",
   "execution_count": null,
   "metadata": {
    "colab": {
     "base_uri": "https://localhost:8080/",
     "height": 708
    },
    "colab_type": "code",
    "id": "JCjR8v2KhS9X",
    "outputId": "c78fb486-f55a-4baa-8d26-56e67c17e0d0"
   },
   "outputs": [],
   "source": [
    "daily_confirmedcase_increase"
   ]
  },
  {
   "cell_type": "code",
   "execution_count": null,
   "metadata": {},
   "outputs": [],
   "source": [
    "daily_confirmedcase_increase = pd.DataFrame(data= data) # Lưu thành dạng dataframe\n",
    "daily_confirmedcase_increase.set_index('date', inplace= True) # Set ngày là index\n",
    "daily_confirmedcase_increase = daily_confirmedcase_increase.sort_values(by = 'date') # Sắp xếp ngày\n",
    "daily_confirmedcase_increase.plot(rot=0, figsize = (16,8)) # Vẽ biểu đồ đường"
   ]
  },
  {
   "cell_type": "code",
   "execution_count": null,
   "metadata": {
    "colab": {
     "base_uri": "https://localhost:8080/",
     "height": 36
    },
    "colab_type": "code",
    "id": "yhuaLIhehTFm",
    "outputId": "d153de12-d8ab-4945-c30b-b7579e91e24f"
   },
   "outputs": [],
   "source": [
    "# Kiểm tra tính ổn định\n",
    "from pmdarima.arima import ADFTest\n",
    "adftest = ADFTest(alpha = 0.05)\n",
    "adftest.should_diff(daily_confirmedcase_increase) "
   ]
  },
  {
   "cell_type": "code",
   "execution_count": null,
   "metadata": {
    "colab": {
     "base_uri": "https://localhost:8080/",
     "height": 284
    },
    "colab_type": "code",
    "id": "XPdL9BjzhTIw",
    "outputId": "605190fe-6618-4223-fa17-1cfa89a706e2"
   },
   "outputs": [],
   "source": [
    "#Tạo tập train và test\n",
    "train_data = daily_confirmedcase_increase[:17]\n",
    "test_data = daily_confirmedcase_increase[16:]\n",
    "plt.plot(train_data)\n",
    "plt.plot(test_data)"
   ]
  },
  {
   "cell_type": "code",
   "execution_count": null,
   "metadata": {
    "colab": {
     "base_uri": "https://localhost:8080/",
     "height": 652
    },
    "colab_type": "code",
    "id": "ue7MR7qhhTQI",
    "outputId": "42c13940-fcb8-4b9c-fe2e-dd2f61773726"
   },
   "outputs": [],
   "source": [
    "#ARIMA model\n",
    "arima_model = auto_arima(train_data, start_p=0,d=1,start_q=0,max_p=5,max_d=5,max_q=5,\n",
    "                         start_P=0, D=1, start_Q=0, max_P=5, max_D=5, max_Q=5, \n",
    "                         m=12, seasonal = True, error_action = 'warn', trace = True,\n",
    "                         suppress_warnings = True, stepwise = True, random_state=42, n_fits=15)"
   ]
  },
  {
   "cell_type": "code",
   "execution_count": null,
   "metadata": {
    "colab": {
     "base_uri": "https://localhost:8080/",
     "height": 537
    },
    "colab_type": "code",
    "id": "2ssHr7VAhTNm",
    "outputId": "1aa1609f-912a-4cba-f153-907e61d285c8",
    "scrolled": true
   },
   "outputs": [],
   "source": [
    "arima_model.summary()"
   ]
  },
  {
   "cell_type": "code",
   "execution_count": null,
   "metadata": {},
   "outputs": [],
   "source": [
    "!pip install statsmodels"
   ]
  },
  {
   "cell_type": "code",
   "execution_count": null,
   "metadata": {},
   "outputs": [],
   "source": [
    "import statsmodels.api as sm"
   ]
  },
  {
   "cell_type": "code",
   "execution_count": null,
   "metadata": {
    "colab": {
     "base_uri": "https://localhost:8080/",
     "height": 688
    },
    "colab_type": "code",
    "id": "w5OUOVlgBGzI",
    "outputId": "93f1dda9-9fe0-49e3-8964-3814fa4ba9c5"
   },
   "outputs": [],
   "source": [
    "# Dùng SARIMAX để dự đoán\n",
    "\n",
    "model = sm.tsa.statespace.SARIMAX(daily_confirmedcase_increase['cases_increased'],order=(1,0,0),seasonal_order=(1,0,0,13))\n",
    "results = model.fit()\n",
    "daily_confirmedcase_increase['forecast'] = results.predict(start=17, end= 20, dynamic=True)\n",
    "daily_confirmedcase_increase[['cases_increased','forecast']].plot(figsize = (15,8))"
   ]
  },
  {
   "cell_type": "code",
   "execution_count": null,
   "metadata": {
    "colab": {
     "base_uri": "https://localhost:8080/",
     "height": 708
    },
    "colab_type": "code",
    "id": "ylncAMLBPVGz",
    "outputId": "3881f158-0889-47c5-e786-0c42c2072af7"
   },
   "outputs": [],
   "source": [
    "daily_confirmedcase_increase[['cases_increased','forecast']]"
   ]
  },
  {
   "cell_type": "code",
   "execution_count": null,
   "metadata": {
    "colab": {},
    "colab_type": "code",
    "id": "ybmnW2GVK6EK"
   },
   "outputs": [],
   "source": [
    "from pandas.tseries.offsets import DateOffset\n",
    "covid_future_dates = [daily_confirmedcase_increase.index[-1] + DateOffset(day=x)for x in range(13,20)]"
   ]
  },
  {
   "cell_type": "code",
   "execution_count": null,
   "metadata": {
    "colab": {},
    "colab_type": "code",
    "id": "OvcD6ib6NaiV"
   },
   "outputs": [],
   "source": [
    "covid_future_df = pd.DataFrame(index=covid_future_dates[1:], columns=daily_confirmedcase_increase.columns)"
   ]
  },
  {
   "cell_type": "code",
   "execution_count": null,
   "metadata": {
    "colab": {
     "base_uri": "https://localhost:8080/",
     "height": 503
    },
    "colab_type": "code",
    "id": "6P3V_bhRN1YE",
    "outputId": "14df13f4-9095-4fd3-cfd3-16b16d08c439"
   },
   "outputs": [],
   "source": [
    "#Tạo bảng future_df là ghép giữa bảng daily_confirmedcase_increase và covid_future_df\n",
    "future_df = pd.concat([daily_confirmedcase_increase, covid_future_df])\n",
    "\n",
    "future_df['forecast'] = results.predict(start=17, end=25, dynamic=True) # Dự đoán số ca nhiễm mỗi ngày từ ngày 15-24/8\n",
    "future_df[['cases_increased','forecast']].plot(figsize = (20,8))\n",
    "plt.title('Dự báo số ca nhiễm mới tại Đà Nẵng từ 15/8-24/8')"
   ]
  },
  {
   "cell_type": "markdown",
   "metadata": {},
   "source": [
    "# - - - - - - - TỔNG KẾT - - - - - - -\n",
    "## SAU KHI THỰC HIỆN QUÁ TRÌNH PHÂN TÍCH TRÊN, TA RÚT RA ĐƯỢC CÁC NHẬN XÉT: \n",
    "1. Nhìn vào bảng thống kê số ca nhiễm và số ca tử vong, ta có thể thấy so với các nước trên thế giới Việt Nam chúng ta đã làm rất tốt công tác phòng chống dịch - bằng chứng là số ca nhiễm bệnh và số ca tử vong có tỷ lệ rất thấp so với các nước khác (thậm chí là Mỹ, Nga,...)\n",
    "2. Ta đã xây dựng 1 model dựa vào số lượng người nhiễm bệnh để dự đoán số lượng người nhiễm bệnh trên toàn thế giới trong 10 ngày tiếp theo.\n",
    "3. Dưới cách thể hiện dạng bản đồ, cho ta các nhìn trực quan và sinh động hơn về tình hình dịch Covid19 trên toàn thế giới trong thời gian qua.\n",
    "4. Cho ta cái nhìn cụ thể hơn về tình hình Covid19 của nước ta. 40/63 tỉnh thành đã có ca nhiễm Covid19, tuy nhiên hầu hết tập trung ở 1 vài địa phương, cho ta thấy tình hình Covid19 ở nước ta được kiểm soát khá ổn định.\n",
    "5. Dự báo số ca nhiễm mới tại Đà Nẵng từ 15/8-24/8: ta thấy có xu hướng giảm."
   ]
  },
  {
   "cell_type": "markdown",
   "metadata": {},
   "source": [
    "Link tham khảo: https://www.kaggle.com/tarunkr/covid-19-case-study-analysis-viz-comparisons"
   ]
  },
  {
   "cell_type": "code",
   "execution_count": null,
   "metadata": {},
   "outputs": [],
   "source": []
  }
 ],
 "metadata": {
  "colab": {
   "collapsed_sections": [],
   "name": "Covid19_processing.ipynb",
   "provenance": []
  },
  "kernelspec": {
   "display_name": "Python 3",
   "language": "python",
   "name": "python3"
  },
  "language_info": {
   "codemirror_mode": {
    "name": "ipython",
    "version": 3
   },
   "file_extension": ".py",
   "mimetype": "text/x-python",
   "name": "python",
   "nbconvert_exporter": "python",
   "pygments_lexer": "ipython3",
   "version": "3.7.3"
  }
 },
 "nbformat": 4,
 "nbformat_minor": 1
}
